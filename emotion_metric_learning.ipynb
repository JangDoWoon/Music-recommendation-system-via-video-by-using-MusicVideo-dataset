{
 "cells": [
  {
   "cell_type": "code",
   "execution_count": null,
   "metadata": {
    "id": "Iqy895EqCjcp"
   },
   "outputs": [],
   "source": [
    "import numpy as np\n",
    "import pandas as pd\n",
    "import random\n",
    "import keras"
   ]
  },
  {
   "cell_type": "markdown",
   "metadata": {
    "id": "XXyY5EBrhKLb"
   },
   "source": [
    "각 video와 music에서 emotion vector 추출\n"
   ]
  },
  {
   "cell_type": "code",
   "execution_count": null,
   "metadata": {
    "id": "OeKJXVQFGfQy"
   },
   "outputs": [],
   "source": [
    "mu_saved_npz_train  = np.load('music_train.npz')\n",
    "mu_saved_npz_test  = np.load('music_test.npz')"
   ]
  },
  {
   "cell_type": "code",
   "execution_count": null,
   "metadata": {
    "id": "-0H0jjzqaa60"
   },
   "outputs": [],
   "source": [
    "mu_X_train=mu_saved_npz_train['X']\n",
    "mu_y_train = mu_saved_npz_train['Y']\n",
    "mu_X_test=mu_saved_npz_test['X']\n",
    "mu_y_test = mu_saved_npz_test['Y']"
   ]
  },
  {
   "cell_type": "code",
   "execution_count": null,
   "metadata": {
    "id": "GwH3-O2r1Y6V"
   },
   "outputs": [],
   "source": [
    "mu_saved_npz_train.close()\n",
    "mu_saved_npz_test.close()"
   ]
  },
  {
   "cell_type": "code",
   "execution_count": null,
   "metadata": {
    "colab": {
     "base_uri": "https://localhost:8080/"
    },
    "id": "KSk7Ne6W1Ruv",
    "outputId": "7328632d-b44c-4d4b-d009-b9d0945d5c9e"
   },
   "outputs": [
    {
     "data": {
      "text/plain": [
       "(1583, 512)"
      ]
     },
     "execution_count": 112,
     "metadata": {
      "tags": []
     },
     "output_type": "execute_result"
    }
   ],
   "source": [
    "mu_X_train.shape"
   ]
  },
  {
   "cell_type": "code",
   "execution_count": null,
   "metadata": {
    "id": "4njC750L3FzO"
   },
   "outputs": [],
   "source": [
    "vi_saved_npz_train  = np.load('merge_video_train.npz')\n",
    "vi_saved_npz_test  = np.load('merge_video_test.npz')"
   ]
  },
  {
   "cell_type": "code",
   "execution_count": null,
   "metadata": {
    "id": "guhQ8Jgi3aT3"
   },
   "outputs": [],
   "source": [
    "vi_X_train=vi_saved_npz_train['X']\n",
    "vi_y_train = vi_saved_npz_train['Y']\n",
    "vi_X_test=vi_saved_npz_test['X']\n",
    "vi_y_test = vi_saved_npz_test['Y']\n"
   ]
  },
  {
   "cell_type": "code",
   "execution_count": null,
   "metadata": {
    "id": "OSOaCeND3iRm"
   },
   "outputs": [],
   "source": [
    "vi_saved_npz_train.close()\n",
    "vi_saved_npz_test.close()\n"
   ]
  },
  {
   "cell_type": "code",
   "execution_count": null,
   "metadata": {
    "colab": {
     "base_uri": "https://localhost:8080/"
    },
    "id": "MQ7CX3B29dNi",
    "outputId": "ab0df32a-5f2d-4d7b-9582-b2dfb6828fb7"
   },
   "outputs": [
    {
     "data": {
      "text/plain": [
       "(1583, 912)"
      ]
     },
     "execution_count": 116,
     "metadata": {
      "tags": []
     },
     "output_type": "execute_result"
    }
   ],
   "source": [
    "vi_X_train.shape"
   ]
  },
  {
   "cell_type": "code",
   "execution_count": null,
   "metadata": {
    "colab": {
     "base_uri": "https://localhost:8080/"
    },
    "id": "og6TM4Hl9S5n",
    "outputId": "03d70776-7b0f-4494-f485-4becd1a17642"
   },
   "outputs": [
    {
     "data": {
      "text/plain": [
       "(396, 912)"
      ]
     },
     "execution_count": 117,
     "metadata": {
      "tags": []
     },
     "output_type": "execute_result"
    }
   ],
   "source": [
    "vi_X_test.shape"
   ]
  },
  {
   "cell_type": "markdown",
   "metadata": {
    "id": "5_b7rM0LhEpt"
   },
   "source": [
    "Positive, Negative pair 생성"
   ]
  },
  {
   "cell_type": "code",
   "execution_count": null,
   "metadata": {
    "id": "KxYLVP9OyffD"
   },
   "outputs": [],
   "source": [
    "## input 생성\n",
    "train_video_input = []\n",
    "train_music_input = []\n",
    "train_label = []\n",
    "po_idx = 0\n",
    "ne_idx = 0\n",
    "while po_idx != 100000:\n",
    "  vi_i = random.randrange(0,vi_X_train.shape[0])\n",
    "  mu_i = random.randrange(0,mu_X_train.shape[0])\n",
    "  \n",
    "  label = 1\n",
    "  for i in range(6):\n",
    "    if vi_y_train[vi_i][i] != mu_y_train[mu_i][i]:\n",
    "      label = 0\n",
    "  if label == 0:\n",
    "    ne_idx += 1\n",
    "    if ne_idx <= 100000:\n",
    "      train_video_input.append(vi_X_train[vi_i])\n",
    "      train_music_input.append(mu_X_train[mu_i])\n",
    "      train_label.append(label)\n",
    "    else:\n",
    "      pass\n",
    "    \n",
    "  else:\n",
    "    po_idx += 1\n",
    "    train_video_input.append(vi_X_train[vi_i])\n",
    "    train_music_input.append(mu_X_train[mu_i])\n",
    "    train_label.append(label)\n",
    "\n",
    "\n"
   ]
  },
  {
   "cell_type": "code",
   "execution_count": null,
   "metadata": {
    "id": "iAza-xZj4GmY"
   },
   "outputs": [],
   "source": [
    "train_video_input = np.array(train_video_input)"
   ]
  },
  {
   "cell_type": "code",
   "execution_count": null,
   "metadata": {
    "id": "7Nqb19wa4YTw"
   },
   "outputs": [],
   "source": [
    "train_music_input = np.array(train_music_input)"
   ]
  },
  {
   "cell_type": "code",
   "execution_count": null,
   "metadata": {
    "id": "-D1xbtPx4hv5"
   },
   "outputs": [],
   "source": [
    "train_label = np.array(train_label)"
   ]
  },
  {
   "cell_type": "code",
   "execution_count": null,
   "metadata": {
    "colab": {
     "base_uri": "https://localhost:8080/"
    },
    "id": "-Jrb9q8iJJlf",
    "outputId": "e265e24f-dcb8-4564-d0a7-67022ae0cba8"
   },
   "outputs": [
    {
     "data": {
      "text/plain": [
       "(200000, 912)"
      ]
     },
     "execution_count": 122,
     "metadata": {
      "tags": []
     },
     "output_type": "execute_result"
    }
   ],
   "source": [
    "train_video_input.shape"
   ]
  },
  {
   "cell_type": "code",
   "execution_count": null,
   "metadata": {
    "id": "wG0Jhltx5EGx"
   },
   "outputs": [],
   "source": [
    "## input 생성\n",
    "test_video_input = []\n",
    "test_music_input = []\n",
    "test_label = []\n",
    "po_idx = 0\n",
    "ne_idx = 0\n",
    "while po_idx != 20000:\n",
    "  vi_i = random.randrange(0,vi_X_test.shape[0])\n",
    "  mu_i = random.randrange(0,mu_X_test.shape[0])\n",
    "  \n",
    "  label = 1\n",
    "  for i in range(6):\n",
    "    if vi_y_test[vi_i][i] != mu_y_test[mu_i][i]:\n",
    "      label = 0\n",
    "  if label == 0:\n",
    "    ne_idx += 1\n",
    "    if ne_idx <= 20000:\n",
    "      test_video_input.append(vi_X_test[vi_i])\n",
    "      test_music_input.append(mu_X_test[mu_i])\n",
    "      test_label.append(label)\n",
    "    else:\n",
    "      pass\n",
    "    \n",
    "  else:\n",
    "    po_idx += 1\n",
    "    test_video_input.append(vi_X_test[vi_i])\n",
    "    test_music_input.append(mu_X_test[mu_i])\n",
    "    test_label.append(label)"
   ]
  },
  {
   "cell_type": "code",
   "execution_count": null,
   "metadata": {
    "id": "rblzE8rU59nc"
   },
   "outputs": [],
   "source": [
    "test_video_input = np.array(test_video_input)"
   ]
  },
  {
   "cell_type": "code",
   "execution_count": null,
   "metadata": {
    "id": "e7ECcXCd6FNM"
   },
   "outputs": [],
   "source": [
    "test_music_input = np.array(test_music_input)"
   ]
  },
  {
   "cell_type": "code",
   "execution_count": null,
   "metadata": {
    "id": "-3ccDg9t6Hq7"
   },
   "outputs": [],
   "source": [
    "test_label = np.array(test_label)"
   ]
  },
  {
   "cell_type": "code",
   "execution_count": null,
   "metadata": {
    "colab": {
     "base_uri": "https://localhost:8080/"
    },
    "id": "CzzvDe2eKZk-",
    "outputId": "25919fc6-f795-490e-d64a-9839f0f4bb19"
   },
   "outputs": [
    {
     "data": {
      "text/plain": [
       "(40000, 912)"
      ]
     },
     "execution_count": 127,
     "metadata": {
      "tags": []
     },
     "output_type": "execute_result"
    }
   ],
   "source": [
    "test_video_input.shape"
   ]
  },
  {
   "cell_type": "markdown",
   "metadata": {
    "id": "x-y3THJFhTjV"
   },
   "source": [
    "Embedding space에 mapping함"
   ]
  },
  {
   "cell_type": "code",
   "execution_count": null,
   "metadata": {
    "id": "fSYkajAgJefP"
   },
   "outputs": [],
   "source": [
    "from tensorflow.keras import Model\n",
    "from tensorflow.keras import Input\n",
    "from tensorflow.keras.layers import Dense,Lambda,Dropout\n",
    "from keras import backend as K\n",
    "\n",
    "music_input = Input(shape = (512))\n",
    "video_input = Input(shape = (912))\n",
    "\n",
    "vi_feats = Dense(256)(video_input)\n",
    "vi_feats = Dropout(0.5)(vi_feats)\n",
    "mu_feats = Dense(256)(music_input)\n",
    "mu_feats = Dropout(0.5)(mu_feats)\n",
    "\n",
    "L1_layer = Lambda(lambda tensors:K.abs(tensors[0]-tensors[1]))\n",
    "L1_distance = L1_layer([vi_feats,mu_feats])\n",
    "\n",
    "prediction = Dense(1,activation = 'sigmoid')(L1_distance)\n",
    "metric_model = Model(inputs=[video_input, music_input], outputs=prediction)\n"
   ]
  },
  {
   "cell_type": "code",
   "execution_count": null,
   "metadata": {
    "colab": {
     "base_uri": "https://localhost:8080/"
    },
    "id": "WRtyGnagLH0V",
    "outputId": "da61eb4b-111b-48b4-b8e8-d14129cc41a7"
   },
   "outputs": [
    {
     "name": "stdout",
     "output_type": "stream",
     "text": [
      "Model: \"model_6\"\n",
      "__________________________________________________________________________________________________\n",
      "Layer (type)                    Output Shape         Param #     Connected to                     \n",
      "==================================================================================================\n",
      "input_14 (InputLayer)           [(None, 912)]        0                                            \n",
      "__________________________________________________________________________________________________\n",
      "input_13 (InputLayer)           [(None, 512)]        0                                            \n",
      "__________________________________________________________________________________________________\n",
      "dense_18 (Dense)                (None, 256)          233728      input_14[0][0]                   \n",
      "__________________________________________________________________________________________________\n",
      "dense_19 (Dense)                (None, 256)          131328      input_13[0][0]                   \n",
      "__________________________________________________________________________________________________\n",
      "dropout_12 (Dropout)            (None, 256)          0           dense_18[0][0]                   \n",
      "__________________________________________________________________________________________________\n",
      "dropout_13 (Dropout)            (None, 256)          0           dense_19[0][0]                   \n",
      "__________________________________________________________________________________________________\n",
      "lambda_6 (Lambda)               (None, 256)          0           dropout_12[0][0]                 \n",
      "                                                                 dropout_13[0][0]                 \n",
      "__________________________________________________________________________________________________\n",
      "dense_20 (Dense)                (None, 1)            257         lambda_6[0][0]                   \n",
      "==================================================================================================\n",
      "Total params: 365,313\n",
      "Trainable params: 365,313\n",
      "Non-trainable params: 0\n",
      "__________________________________________________________________________________________________\n"
     ]
    }
   ],
   "source": [
    "metric_model.summary()"
   ]
  },
  {
   "cell_type": "code",
   "execution_count": null,
   "metadata": {
    "id": "zvMTk1XkLRZL"
   },
   "outputs": [],
   "source": [
    "def accuracy(y_true, y_pred):\n",
    "    return K.mean(K.equal(y_true, K.cast(y_pred < 0.5, y_true.dtype)))"
   ]
  },
  {
   "cell_type": "code",
   "execution_count": null,
   "metadata": {
    "id": "TRjRwnZFLqxF"
   },
   "outputs": [],
   "source": [
    "def contrastive_loss(y_true, y_pred):\n",
    "    y_true=tf.dtypes.cast(y_true, tf.float64)\n",
    "    y_pred=tf.dtypes.cast(y_pred, tf.float64)\n",
    "    margin = 1\n",
    "    square_pred = K.square(y_pred)\n",
    "    margin_square = K.square(K.maximum(margin - y_pred, 0))\n",
    "    return K.mean(y_true * square_pred + (1 - y_true) * margin_square)"
   ]
  },
  {
   "cell_type": "code",
   "execution_count": null,
   "metadata": {
    "colab": {
     "base_uri": "https://localhost:8080/"
    },
    "id": "KJeKThftLhrz",
    "outputId": "1fd2b324-f9ed-48f0-a074-a4a52af0753e"
   },
   "outputs": [
    {
     "name": "stdout",
     "output_type": "stream",
     "text": [
      "Epoch 1/20\n",
      "3125/3125 [==============================] - 7s 2ms/step - loss: 0.3087 - accuracy: 0.6159 - val_loss: 0.2437 - val_accuracy: 0.7033\n",
      "Epoch 2/20\n",
      "3125/3125 [==============================] - 7s 2ms/step - loss: 0.1773 - accuracy: 0.7703 - val_loss: 0.2232 - val_accuracy: 0.7340\n",
      "Epoch 3/20\n",
      "3125/3125 [==============================] - 7s 2ms/step - loss: 0.1277 - accuracy: 0.8306 - val_loss: 0.2144 - val_accuracy: 0.7441\n",
      "Epoch 4/20\n",
      "3125/3125 [==============================] - 7s 2ms/step - loss: 0.1006 - accuracy: 0.8651 - val_loss: 0.2096 - val_accuracy: 0.7486\n",
      "Epoch 5/20\n",
      "3125/3125 [==============================] - 7s 2ms/step - loss: 0.0848 - accuracy: 0.8856 - val_loss: 0.2086 - val_accuracy: 0.7499\n",
      "Epoch 6/20\n",
      "3125/3125 [==============================] - 7s 2ms/step - loss: 0.0744 - accuracy: 0.8993 - val_loss: 0.2043 - val_accuracy: 0.7537\n",
      "Epoch 7/20\n",
      "3125/3125 [==============================] - 7s 2ms/step - loss: 0.0660 - accuracy: 0.9111 - val_loss: 0.2041 - val_accuracy: 0.7556\n",
      "Epoch 8/20\n",
      "3125/3125 [==============================] - 7s 2ms/step - loss: 0.0606 - accuracy: 0.9187 - val_loss: 0.2026 - val_accuracy: 0.7589\n",
      "Epoch 9/20\n",
      "3125/3125 [==============================] - 7s 2ms/step - loss: 0.0559 - accuracy: 0.9252 - val_loss: 0.2062 - val_accuracy: 0.7551\n",
      "Epoch 10/20\n",
      "3125/3125 [==============================] - 7s 2ms/step - loss: 0.0522 - accuracy: 0.9306 - val_loss: 0.2044 - val_accuracy: 0.7570\n",
      "Epoch 11/20\n",
      "3125/3125 [==============================] - 7s 2ms/step - loss: 0.0499 - accuracy: 0.9335 - val_loss: 0.2064 - val_accuracy: 0.7546\n",
      "Epoch 12/20\n",
      "3125/3125 [==============================] - 7s 2ms/step - loss: 0.0475 - accuracy: 0.9369 - val_loss: 0.2054 - val_accuracy: 0.7576\n",
      "Epoch 13/20\n",
      "3125/3125 [==============================] - 7s 2ms/step - loss: 0.0460 - accuracy: 0.9387 - val_loss: 0.2072 - val_accuracy: 0.7565\n",
      "Epoch 14/20\n",
      "3125/3125 [==============================] - 7s 2ms/step - loss: 0.0440 - accuracy: 0.9419 - val_loss: 0.2033 - val_accuracy: 0.7631\n",
      "Epoch 15/20\n",
      "3125/3125 [==============================] - 7s 2ms/step - loss: 0.0431 - accuracy: 0.9433 - val_loss: 0.2034 - val_accuracy: 0.7646\n",
      "Epoch 16/20\n",
      "3125/3125 [==============================] - 7s 2ms/step - loss: 0.0418 - accuracy: 0.9451 - val_loss: 0.2122 - val_accuracy: 0.7534\n",
      "Epoch 17/20\n",
      "3125/3125 [==============================] - 7s 2ms/step - loss: 0.0408 - accuracy: 0.9464 - val_loss: 0.2100 - val_accuracy: 0.7563\n",
      "Epoch 18/20\n",
      "3125/3125 [==============================] - 7s 2ms/step - loss: 0.0399 - accuracy: 0.9473 - val_loss: 0.2081 - val_accuracy: 0.7593\n",
      "Epoch 19/20\n",
      "3125/3125 [==============================] - 7s 2ms/step - loss: 0.0390 - accuracy: 0.9486 - val_loss: 0.2076 - val_accuracy: 0.7585\n",
      "Epoch 20/20\n",
      "3125/3125 [==============================] - 7s 2ms/step - loss: 0.0384 - accuracy: 0.9494 - val_loss: 0.2092 - val_accuracy: 0.7582\n"
     ]
    }
   ],
   "source": [
    "import keras\n",
    "import tensorflow as tf\n",
    "opt = keras.optimizers.Adam(learning_rate = 0.0001)\n",
    "metric_model.compile(loss=contrastive_loss, optimizer=opt, metrics=[accuracy])\n",
    "\n",
    "history = metric_model.fit(\n",
    "    [train_video_input, train_music_input], train_label,\n",
    "    validation_data=([test_video_input, test_music_input], test_label),\n",
    "    shuffle = True,\n",
    "    batch_size=64,\n",
    "    epochs=20)"
   ]
  },
  {
   "cell_type": "code",
   "execution_count": null,
   "metadata": {
    "colab": {
     "base_uri": "https://localhost:8080/",
     "height": 299
    },
    "id": "O19TTIoxG0XW",
    "outputId": "ba2d8b97-71eb-453b-b7fe-9f707e61c7fc"
   },
   "outputs": [
    {
     "data": {
      "image/png": "[encoded data removed]",
      "text/plain": [
       "<Figure size 432x288 with 1 Axes>"
      ]
     },
     "metadata": {
      "tags": []
     },
     "output_type": "display_data"
    }
   ],
   "source": [
    "# 그림 그리기\n",
    "def plot_training_loss(H):\n",
    "    plt.style.use(\"ggplot\")\n",
    "    plt.figure()\n",
    "    plt.plot(H.history[\"loss\"], label=\"train_loss\")\n",
    "    plt.plot(H.history[\"val_loss\"], label=\"val_loss\")\n",
    "    plt.title(\"Training Loss\")\n",
    "    plt.xlabel(\"Epoch #\")\n",
    "    plt.ylabel(\"Loss\")\n",
    "    plt.legend(loc=\"lower left\")\n",
    "plot_training_loss(history)"
   ]
  },
  {
   "cell_type": "code",
   "execution_count": null,
   "metadata": {
    "id": "-8Z2lkt7LlbT"
   },
   "outputs": [],
   "source": [
    "metric_model.save('Deep_metric_model.h5')"
   ]
  },
  {
   "cell_type": "code",
   "execution_count": null,
   "metadata": {
    "id": "7fLYqdH6G1Q5"
   },
   "outputs": [],
   "source": [
    "from keras.models import Model, load_model\n",
    "metric_model = load_model('Deep_metric_model.h5',custom_objects = {'contrastive_loss':contrastive_loss})"
   ]
  },
  {
   "cell_type": "code",
   "execution_count": null,
   "metadata": {
    "id": "1bKxIwm6P_Zr"
   },
   "outputs": [],
   "source": [
    "label = []\n",
    "cal_auc_mu = []\n",
    "cal_auc_vi = []\n",
    "music = []\n",
    "for j in range(vi_y_test.shape[0]):\n",
    "  video_input = []\n",
    "  music_input = []\n",
    "  idx = []\n",
    "  prediction = []\n",
    "  for idx in range(396):\n",
    "    video_input.append(vi_X_test[j])\n",
    "    music_input.append(mu_X_test[idx])\n",
    "  video_input = np.array(video_input)\n",
    "  music_input = np.array(music_input)\n",
    "  prediction=metric_model.predict([video_input,music_input])\n",
    "  prediction=prediction.tolist()\n",
    "  cal_auc_mu.append(mu_y_test[prediction.index(min(prediction))])\n",
    "  cal_auc_vi.append(vi_y_test[j])\n",
    "  la = 1\n",
    "  music.append(prediction.index(min(prediction)))\n",
    "  for i in range(6):\n",
    "    if vi_y_test[j][i] != mu_y_test[prediction.index(min(prediction))][i]:\n",
    "      la = 0\n",
    "  label.append(la)\n",
    "cal_auc_mu = np.array(cal_auc_mu)\n",
    "cal_auc_vi = np.array(cal_auc_vi)"
   ]
  },
  {
   "cell_type": "code",
   "execution_count": null,
   "metadata": {
    "colab": {
     "base_uri": "https://localhost:8080/"
    },
    "id": "9FHkCespQ6HD",
    "outputId": "3c390e12-71fd-4dbf-8344-6780a1ffdcfa"
   },
   "outputs": [
    {
     "name": "stdout",
     "output_type": "stream",
     "text": [
      "0.5883838383838383\n"
     ]
    }
   ],
   "source": [
    "print(sum(label)/len(label))"
   ]
  },
  {
   "cell_type": "markdown",
   "metadata": {
    "id": "7uBKEmz7hc4b"
   },
   "source": [
    "결과 평가"
   ]
  },
  {
   "cell_type": "code",
   "execution_count": null,
   "metadata": {
    "colab": {
     "base_uri": "https://localhost:8080/"
    },
    "id": "NLXODjcRTW90",
    "outputId": "7920dda7-e3fb-413b-be53-84a6d7aaece6"
   },
   "outputs": [
    {
     "name": "stdout",
     "output_type": "stream",
     "text": [
      "0.7507248269311928\n"
     ]
    }
   ],
   "source": [
    "from sklearn.metrics import roc_auc_score\n",
    "roc_score = roc_auc_score(cal_auc_mu, cal_auc_vi)\n",
    "print(roc_score)"
   ]
  },
  {
   "cell_type": "code",
   "execution_count": null,
   "metadata": {
    "id": "uJ6ItkJjhiIK"
   },
   "outputs": [],
   "source": []
  },
  {
   "cell_type": "code",
   "execution_count": null,
   "metadata": {
    "colab": {
     "base_uri": "https://localhost:8080/",
     "height": 343
    },
    "id": "_Vf0ypZmfld8",
    "outputId": "a4234df9-5c00-47e3-c528-c6bc3ae617c5"
   },
   "outputs": [
    {
     "data": {
      "text/plain": [
       "Text(33.0, 0.5, 'music emtion')"
      ]
     },
     "execution_count": 139,
     "metadata": {
      "tags": []
     },
     "output_type": "execute_result"
    },
    {
     "data": {
      "image/png": "[encoded data removed]",
      "text/plain": [
       "<Figure size 432x288 with 2 Axes>"
      ]
     },
     "metadata": {
      "tags": []
     },
     "output_type": "display_data"
    }
   ],
   "source": [
    "from sklearn.metrics import confusion_matrix\n",
    "import seaborn as sns\n",
    "import matplotlib.pyplot as plt\n",
    "label = ['Exciting','Fear','Neutral','Relaxation','Sad','Tension']\n",
    "cf = confusion_matrix(cal_auc_vi.argmax(axis =1),cal_auc_mu.argmax(axis=1))\n",
    "sns.heatmap(cf, annot = True,xticklabels= label,yticklabels=label, cmap = 'viridis')\n",
    "plt.xlabel(\"video emtion\")\n",
    "plt.ylabel(\"music emtion\")"
   ]
  },
  {
   "cell_type": "code",
   "execution_count": null,
   "metadata": {
    "colab": {
     "base_uri": "https://localhost:8080/"
    },
    "id": "YdKG5IOXfzDr",
    "outputId": "c5b2b072-8c79-49e0-ba74-dd69cec7e00f"
   },
   "outputs": [
    {
     "name": "stdout",
     "output_type": "stream",
     "text": [
      "0.9655172413793104\n",
      "0.9827586206896551\n",
      "0.8857142857142857\n",
      "0.8414634146341463\n",
      "0.9555555555555556\n",
      "0.8795180722891566\n"
     ]
    }
   ],
   "source": [
    "a = 0\n",
    "for j in range(cf.shape[1]):\n",
    "  ans = 0\n",
    "  for i in range(cf.shape[0]):\n",
    "    ans += cf[i][j]\n",
    "  print(cf[a][j]/ans)\n",
    "  a+=1"
   ]
  },
  {
   "cell_type": "code",
   "execution_count": null,
   "metadata": {
    "colab": {
     "base_uri": "https://localhost:8080/"
    },
    "id": "po6hd9usIN6K",
    "outputId": "fc75c215-4d4f-43d7-808f-6262ab81cb47"
   },
   "outputs": [
    {
     "data": {
      "text/plain": [
       "6"
      ]
     },
     "execution_count": 44,
     "metadata": {
      "tags": []
     },
     "output_type": "execute_result"
    }
   ],
   "source": [
    "cf.shape[0]"
   ]
  },
  {
   "cell_type": "code",
   "execution_count": null,
   "metadata": {
    "id": "P-SCyg81IloR"
   },
   "outputs": [],
   "source": []
  }
 ],
 "metadata": {
  "accelerator": "GPU",
  "colab": {
   "collapsed_sections": [],
   "machine_shape": "hm",
   "name": "emotion metric learning.ipynb",
   "provenance": []
  },
  "kernelspec": {
   "display_name": "Python 3",
   "language": "python",
   "name": "python3"
  },
  "language_info": {
   "codemirror_mode": {
    "name": "ipython",
    "version": 3
   },
   "file_extension": ".py",
   "mimetype": "text/x-python",
   "name": "python",
   "nbconvert_exporter": "python",
   "pygments_lexer": "ipython3",
   "version": "3.8.8"
  }
 },
 "nbformat": 4,
 "nbformat_minor": 1
}
